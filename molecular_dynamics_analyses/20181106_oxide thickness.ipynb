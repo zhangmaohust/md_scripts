{
 "cells": [
  {
   "cell_type": "code",
   "execution_count": 1,
   "metadata": {},
   "outputs": [],
   "source": [
    "import pandas as pd\n",
    "import numpy as np\n",
    "# import seaborn as sns\n",
    "import matplotlib.pyplot as plt"
   ]
  },
  {
   "cell_type": "code",
   "execution_count": 3,
   "metadata": {},
   "outputs": [
    {
     "name": "stdout",
     "output_type": "stream",
     "text": [
      "D:\\\n"
     ]
    }
   ],
   "source": [
    "cd D:"
   ]
  },
  {
   "cell_type": "code",
   "execution_count": 4,
   "metadata": {},
   "outputs": [
    {
     "name": "stdout",
     "output_type": "stream",
     "text": [
      "D:\\OneDrive\\Lammps\\nanoglass\\20181022_700K_NPTb+700-300K_NPTb+300K_NVTb_xTen_E-2Aps\n"
     ]
    }
   ],
   "source": [
    "cd OneDrive/Lammps/nanoglass/20181022_700K_NPTb+700-300K_NPTb+300K_NVTb_xTen_E-2Aps/"
   ]
  },
  {
   "cell_type": "code",
   "execution_count": 5,
   "metadata": {
    "scrolled": true
   },
   "outputs": [
    {
     "name": "stdout",
     "output_type": "stream",
     "text": [
      "D:\\OneDrive\\Lammps\\nanoglass\\20181022_700K_NPTb+700-300K_NPTb+300K_NVTb_xTen_E-2Aps\\data_analyses\\microstructure\\cluster\n"
     ]
    }
   ],
   "source": [
    "cd data_analyses/microstructure/cluster/"
   ]
  },
  {
   "cell_type": "code",
   "execution_count": 6,
   "metadata": {},
   "outputs": [],
   "source": [
    "temp = 700\n",
    "step =1000"
   ]
  },
  {
   "cell_type": "code",
   "execution_count": 8,
   "metadata": {},
   "outputs": [],
   "source": [
    "file_name = 'voronoi_%iK_%i.data'%(temp,step)\n",
    "csv_name = file_name[:-5] +'.csv'"
   ]
  },
  {
   "cell_type": "code",
   "execution_count": 9,
   "metadata": {},
   "outputs": [],
   "source": [
    "origin_data = pd.DataFrame(pd.read_csv(csv_name, sep='\\s+'))"
   ]
  },
  {
   "cell_type": "code",
   "execution_count": 10,
   "metadata": {},
   "outputs": [],
   "source": [
    "origin_data['VoronoiIndices'] = '<'+origin_data['VoronoiIndex3'].map(str) +' '+origin_data['VoronoiIndex4'].map(str) +' '+origin_data['VoronoiIndex5'].map(str) +' '+origin_data['VoronoiIndex6'].map(str)+'>' \n",
    "data = origin_data.drop(['VoronoiIndex3','VoronoiIndex4','VoronoiIndex5','VoronoiIndex6'],axis='columns')"
   ]
  },
  {
   "cell_type": "code",
   "execution_count": 11,
   "metadata": {},
   "outputs": [],
   "source": [
    "y_lower = (data.y.max()+data.y.min())*0.5 - (data.y.max()-data.y.min())*0.1\n",
    "\n",
    "y_upper = (data.y.max()+data.y.min())*0.5 + (data.y.max()-data.y.min())*0.1\n",
    "\n",
    "data_y = data.loc[(data.y >= y_lower) & (data.y <= y_upper)].sort_values('y')[['type','x','AtomicVolume']]"
   ]
  },
  {
   "cell_type": "code",
   "execution_count": 12,
   "metadata": {},
   "outputs": [
    {
     "data": {
      "text/html": [
       "<div>\n",
       "<style scoped>\n",
       "    .dataframe tbody tr th:only-of-type {\n",
       "        vertical-align: middle;\n",
       "    }\n",
       "\n",
       "    .dataframe tbody tr th {\n",
       "        vertical-align: top;\n",
       "    }\n",
       "\n",
       "    .dataframe thead th {\n",
       "        text-align: right;\n",
       "    }\n",
       "</style>\n",
       "<table border=\"1\" class=\"dataframe\">\n",
       "  <thead>\n",
       "    <tr style=\"text-align: right;\">\n",
       "      <th></th>\n",
       "      <th>type</th>\n",
       "      <th>x</th>\n",
       "      <th>AtomicVolume</th>\n",
       "    </tr>\n",
       "  </thead>\n",
       "  <tbody>\n",
       "    <tr>\n",
       "      <th>113139</th>\n",
       "      <td>1</td>\n",
       "      <td>220.0380</td>\n",
       "      <td>15.372137</td>\n",
       "    </tr>\n",
       "    <tr>\n",
       "      <th>57929</th>\n",
       "      <td>3</td>\n",
       "      <td>83.5649</td>\n",
       "      <td>18.677274</td>\n",
       "    </tr>\n",
       "    <tr>\n",
       "      <th>4279</th>\n",
       "      <td>1</td>\n",
       "      <td>-32.8007</td>\n",
       "      <td>15.323326</td>\n",
       "    </tr>\n",
       "    <tr>\n",
       "      <th>141206</th>\n",
       "      <td>1</td>\n",
       "      <td>276.4730</td>\n",
       "      <td>15.591452</td>\n",
       "    </tr>\n",
       "    <tr>\n",
       "      <th>95013</th>\n",
       "      <td>1</td>\n",
       "      <td>166.8180</td>\n",
       "      <td>13.926377</td>\n",
       "    </tr>\n",
       "  </tbody>\n",
       "</table>\n",
       "</div>"
      ],
      "text/plain": [
       "        type         x  AtomicVolume\n",
       "113139     1  220.0380     15.372137\n",
       "57929      3   83.5649     18.677274\n",
       "4279       1  -32.8007     15.323326\n",
       "141206     1  276.4730     15.591452\n",
       "95013      1  166.8180     13.926377"
      ]
     },
     "execution_count": 12,
     "metadata": {},
     "output_type": "execute_result"
    }
   ],
   "source": []
  },
  {
   "cell_type": "code",
   "execution_count": null,
   "metadata": {},
   "outputs": [],
   "source": [
    "data_y_O = data_y.loc[(data_y.type == 2)&(data_y.x >= 100) &(data_y.x <= 150)].sort_values('x')"
   ]
  },
  {
   "cell_type": "code",
   "execution_count": null,
   "metadata": {},
   "outputs": [],
   "source": [
    "oxide_thick = data_y_O.x.max()-data_y_O.x.min()"
   ]
  },
  {
   "cell_type": "code",
   "execution_count": null,
   "metadata": {},
   "outputs": [],
   "source": [
    "f_name = file_name[8:12]+'_oxide_thick.txt'\n",
    "\n",
    "with open(f_name, 'a+') as f:\n",
    "    f.write(str(step)+'\\t'+'%.5f'%oxide_thick +'test \\n')"
   ]
  }
 ],
 "metadata": {
  "kernelspec": {
   "display_name": "Python 3",
   "language": "python",
   "name": "python3"
  },
  "language_info": {
   "codemirror_mode": {
    "name": "ipython",
    "version": 3
   },
   "file_extension": ".py",
   "mimetype": "text/x-python",
   "name": "python",
   "nbconvert_exporter": "python",
   "pygments_lexer": "ipython3",
   "version": "3.7.1"
  }
 },
 "nbformat": 4,
 "nbformat_minor": 2
}
