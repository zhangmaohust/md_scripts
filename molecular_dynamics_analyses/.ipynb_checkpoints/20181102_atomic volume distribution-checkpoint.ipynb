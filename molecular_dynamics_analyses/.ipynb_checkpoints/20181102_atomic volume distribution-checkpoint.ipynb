{
 "cells": [
  {
   "cell_type": "code",
   "execution_count": 1,
   "metadata": {},
   "outputs": [],
   "source": [
    "import pandas as pd\n",
    "import numpy as np\n",
    "# import seaborn as sns\n",
    "import matplotlib.pyplot as plt"
   ]
  },
  {
   "cell_type": "code",
   "execution_count": 2,
   "metadata": {},
   "outputs": [
    {
     "name": "stdout",
     "output_type": "stream",
     "text": [
      "D:\\OneDrive\\Python\\md_scripts\\molecular_dynamics_analyses\n"
     ]
    }
   ],
   "source": [
    "cd D:"
   ]
  },
  {
   "cell_type": "code",
   "execution_count": 3,
   "metadata": {},
   "outputs": [
    {
     "name": "stdout",
     "output_type": "stream",
     "text": [
      "[WinError 3] 系统找不到指定的路径。: 'OneDrive/Lammps/nanoglass/20181116_800K_NPTb+800-300K_NPTb+300K_NVTb_xTen_E-2Aps\\\\data_analyses_3\\\\data_files'\n",
      "D:\\OneDrive\\Python\\md_scripts\\molecular_dynamics_analyses\n"
     ]
    }
   ],
   "source": [
    "cd OneDrive/Lammps/nanoglass/20181116_800K_NPTb+800-300K_NPTb+300K_NVTb_xTen_E-2Aps\\data_analyses_3\\data_files"
   ]
  },
  {
   "cell_type": "code",
   "execution_count": null,
   "metadata": {},
   "outputs": [],
   "source": [
    "cd data_analyses/microstructure/cluster/"
   ]
  },
  {
   "cell_type": "code",
   "execution_count": null,
   "metadata": {},
   "outputs": [],
   "source": [
    "file_name = 'voronoi_800K_0.data'\n",
    "csv_name = file_name[:-5] +'.csv'"
   ]
  },
  {
   "cell_type": "code",
   "execution_count": null,
   "metadata": {},
   "outputs": [],
   "source": [
    "with open(file_name) as f:\n",
    "    lines = f.readlines()"
   ]
  },
  {
   "cell_type": "code",
   "execution_count": null,
   "metadata": {},
   "outputs": [],
   "source": [
    "timestep = lines[1]\n",
    "num_atoms = lines[3]\n",
    "x_range, y_range, z_range = lines[5:8]\n",
    "items = lines[8].split(' ')\n",
    "columns = items[2:]\n",
    "tables = lines[9:]"
   ]
  },
  {
   "cell_type": "code",
   "execution_count": null,
   "metadata": {},
   "outputs": [],
   "source": [
    "with open(csv_name,'w') as nf:\n",
    "    for char in columns:\n",
    "        nf.write(char+' ')\n",
    "    for lines in tables:\n",
    "        nf.write(lines)"
   ]
  },
  {
   "cell_type": "code",
   "execution_count": null,
   "metadata": {},
   "outputs": [],
   "source": [
    "origin_data = pd.DataFrame(pd.read_csv(csv_name, sep='\\s+'))"
   ]
  },
  {
   "cell_type": "code",
   "execution_count": null,
   "metadata": {},
   "outputs": [],
   "source": [
    "origin_data['VoronoiIndices'] = '<'+origin_data['VoronoiIndex3'].map(str) +' '+origin_data['VoronoiIndex4'].map(str) +' '+origin_data['VoronoiIndex5'].map(str) +' '+origin_data['VoronoiIndex6'].map(str)+'>' "
   ]
  },
  {
   "cell_type": "code",
   "execution_count": null,
   "metadata": {},
   "outputs": [],
   "source": [
    "data = origin_data.drop(['VoronoiIndex3','VoronoiIndex4','VoronoiIndex5','VoronoiIndex6'],axis='columns')"
   ]
  },
  {
   "cell_type": "code",
   "execution_count": null,
   "metadata": {},
   "outputs": [],
   "source": [
    "y_lower = (data.y.max()+data.y.min())*0.5 - (data.y.max()-data.y.min())*0.1\n",
    "\n",
    "y_upper = (data.y.max()+data.y.min())*0.5 + (data.y.max()-data.y.min())*0.1\n",
    "\n",
    "data_y = data.loc[(data.y >= y_lower) & (data.y <= y_upper)].sort_values('y')[['type','x','AtomicVolume']]"
   ]
  },
  {
   "cell_type": "code",
   "execution_count": null,
   "metadata": {},
   "outputs": [],
   "source": [
    "bin_num = 400.\n",
    "quartiles = pd.cut(data_y.x, bin_num)"
   ]
  },
  {
   "cell_type": "code",
   "execution_count": null,
   "metadata": {
    "scrolled": true
   },
   "outputs": [],
   "source": [
    "x_dist = data_y.AtomicVolume.groupby([data_y.type,quartiles]).mean().unstack().T.rename({1:'Cu',2:'O',3:'Zr'},axis=1)"
   ]
  },
  {
   "cell_type": "code",
   "execution_count": null,
   "metadata": {},
   "outputs": [],
   "source": [
    "x_cor = pd.Series(np.arange(bin_num))\n",
    "for i in range(len(x_dist.index)):\n",
    "    x_cor[i] = x_dist.index[i].mid\n",
    "\n",
    "df1=x_dist.reset_index().sort_values('x')\n",
    "\n",
    "df1['x_cor'] =x_cor\n",
    "\n",
    "df2=df1.set_index('x_cor').drop('x',axis=1)\n",
    "\n",
    "df2.to_csv(file_name[:-5]+'_atomic volume.txt')\n"
   ]
  },
  {
   "cell_type": "code",
   "execution_count": null,
   "metadata": {},
   "outputs": [],
   "source": [
    "df3=df2\n",
    "\n",
    "fig = plt.figure(dpi=300)\n",
    "\n",
    "df3.plot(xlim=(100,150), ylim=(0,50),style=['rs-','b^-','yo-'],title='Atomic volume distribution',alpha=0.8)\n",
    "plt.xlabel('x-axis (angstrom)')\n",
    "plt.ylabel('atomic volume (angstrom ^ 3)')\n",
    "\n",
    "plt.legend(loc='best')\n",
    "\n",
    "\n",
    "fig_name = file_name[:-5]+'_atomic volume'+'.jpg'\n",
    "\n",
    "plt.savefig(fig_name,dpi=300)\n"
   ]
  }
 ],
 "metadata": {
  "kernelspec": {
   "display_name": "Python 3",
   "language": "python",
   "name": "python3"
  },
  "language_info": {
   "codemirror_mode": {
    "name": "ipython",
    "version": 3
   },
   "file_extension": ".py",
   "mimetype": "text/x-python",
   "name": "python",
   "nbconvert_exporter": "python",
   "pygments_lexer": "ipython3",
   "version": "3.7.1"
  }
 },
 "nbformat": 4,
 "nbformat_minor": 2
}
