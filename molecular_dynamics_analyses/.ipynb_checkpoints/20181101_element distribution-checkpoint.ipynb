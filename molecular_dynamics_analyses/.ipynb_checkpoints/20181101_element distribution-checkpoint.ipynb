{
 "cells": [
  {
   "cell_type": "code",
   "execution_count": 1,
   "metadata": {},
   "outputs": [],
   "source": [
    "import pandas as pd\n",
    "import numpy as np\n",
    "import matplotlib.pyplot as plt"
   ]
  },
  {
   "cell_type": "code",
   "execution_count": 2,
   "metadata": {},
   "outputs": [
    {
     "name": "stdout",
     "output_type": "stream",
     "text": [
      "D:\\OneDrive\\Python\\md_scripts\\molecular_dynamics_analyses\n"
     ]
    }
   ],
   "source": [
    "cd D:"
   ]
  },
  {
   "cell_type": "code",
   "execution_count": 3,
   "metadata": {},
   "outputs": [
    {
     "name": "stdout",
     "output_type": "stream",
     "text": [
      "D:\\OneDrive\\Lammps\\nanoglass\\20180914_800K_NPTb+800-300K_NPTb+300K_NVTb_xTen_E-2Aps\n"
     ]
    }
   ],
   "source": [
    "cd OneDrive\\Lammps\\nanoglass\\20180928_400K_NPTb+400-300K_NPTb+300K_NVTb_xTen_E-2Aps\\data_analyses_2\\data_files"
   ]
  },
  {
   "cell_type": "code",
   "execution_count": 4,
   "metadata": {},
   "outputs": [
    {
     "name": "stdout",
     "output_type": "stream",
     "text": [
      "D:\\OneDrive\\Lammps\\nanoglass\\20180914_800K_NPTb+800-300K_NPTb+300K_NVTb_xTen_E-2Aps\\data_analyses\\microstructure\\element\n"
     ]
    }
   ],
   "source": [
    "cd \"data_analyses/microstructure/element/\""
   ]
  },
  {
   "cell_type": "code",
   "execution_count": 5,
   "metadata": {},
   "outputs": [],
   "source": [
    "file_name = 'voronoi_800K_1300.data'\n",
    "csv_name = file_name[:-5] +'.csv'"
   ]
  },
  {
   "cell_type": "code",
   "execution_count": 6,
   "metadata": {},
   "outputs": [],
   "source": [
    "with open(file_name) as f:\n",
    "    lines = f.readlines()"
   ]
  },
  {
   "cell_type": "code",
   "execution_count": 7,
   "metadata": {},
   "outputs": [],
   "source": [
    "timestep = lines[1]\n",
    "num_atoms = lines[3]\n",
    "x_range, y_range, z_range = lines[5:8]\n",
    "items = lines[8].split(' ')\n",
    "columns = items[2:]\n",
    "tables = lines[9:]"
   ]
  },
  {
   "cell_type": "code",
   "execution_count": 8,
   "metadata": {},
   "outputs": [],
   "source": [
    "with open(csv_name,'w') as nf:\n",
    "    for char in columns:\n",
    "        nf.write(char+' ')\n",
    "    for lines in tables:\n",
    "        nf.write(lines)"
   ]
  },
  {
   "cell_type": "code",
   "execution_count": 9,
   "metadata": {},
   "outputs": [],
   "source": [
    "origin_data = pd.DataFrame(pd.read_csv(csv_name, sep='\\s+'))"
   ]
  },
  {
   "cell_type": "code",
   "execution_count": 10,
   "metadata": {},
   "outputs": [],
   "source": [
    "origin_data['VoronoiIndices'] = '<'+origin_data['VoronoiIndex3'].map(str) +' '+origin_data['VoronoiIndex4'].map(str) +' '+origin_data['VoronoiIndex5'].map(str) +' '+origin_data['VoronoiIndex6'].map(str)+'>' "
   ]
  },
  {
   "cell_type": "code",
   "execution_count": 11,
   "metadata": {},
   "outputs": [],
   "source": [
    "data = origin_data.drop(['VoronoiIndex3','VoronoiIndex4','VoronoiIndex5','VoronoiIndex6'],axis='columns')"
   ]
  },
  {
   "cell_type": "code",
   "execution_count": 12,
   "metadata": {},
   "outputs": [
    {
     "data": {
      "text/html": [
       "<div>\n",
       "<style scoped>\n",
       "    .dataframe tbody tr th:only-of-type {\n",
       "        vertical-align: middle;\n",
       "    }\n",
       "\n",
       "    .dataframe tbody tr th {\n",
       "        vertical-align: top;\n",
       "    }\n",
       "\n",
       "    .dataframe thead th {\n",
       "        text-align: right;\n",
       "    }\n",
       "</style>\n",
       "<table border=\"1\" class=\"dataframe\">\n",
       "  <thead>\n",
       "    <tr style=\"text-align: right;\">\n",
       "      <th></th>\n",
       "      <th>id</th>\n",
       "      <th>type</th>\n",
       "      <th>x</th>\n",
       "      <th>y</th>\n",
       "      <th>z</th>\n",
       "      <th>Coordination</th>\n",
       "      <th>AtomicVolume</th>\n",
       "      <th>VoronoiIndices</th>\n",
       "    </tr>\n",
       "  </thead>\n",
       "  <tbody>\n",
       "    <tr>\n",
       "      <th>0</th>\n",
       "      <td>110142</td>\n",
       "      <td>1</td>\n",
       "      <td>-56.7958</td>\n",
       "      <td>26.4466</td>\n",
       "      <td>9.35544</td>\n",
       "      <td>14</td>\n",
       "      <td>15.337442</td>\n",
       "      <td>&lt;1 4 1 4&gt;</td>\n",
       "    </tr>\n",
       "    <tr>\n",
       "      <th>1</th>\n",
       "      <td>110488</td>\n",
       "      <td>1</td>\n",
       "      <td>-54.7984</td>\n",
       "      <td>25.7986</td>\n",
       "      <td>6.57851</td>\n",
       "      <td>13</td>\n",
       "      <td>13.583696</td>\n",
       "      <td>&lt;0 3 4 4&gt;</td>\n",
       "    </tr>\n",
       "    <tr>\n",
       "      <th>2</th>\n",
       "      <td>115975</td>\n",
       "      <td>3</td>\n",
       "      <td>-56.0353</td>\n",
       "      <td>24.3024</td>\n",
       "      <td>8.06095</td>\n",
       "      <td>11</td>\n",
       "      <td>18.105264</td>\n",
       "      <td>&lt;0 1 4 5&gt;</td>\n",
       "    </tr>\n",
       "    <tr>\n",
       "      <th>3</th>\n",
       "      <td>115977</td>\n",
       "      <td>3</td>\n",
       "      <td>-57.9252</td>\n",
       "      <td>25.0869</td>\n",
       "      <td>11.38030</td>\n",
       "      <td>11</td>\n",
       "      <td>17.911633</td>\n",
       "      <td>&lt;1 1 3 4&gt;</td>\n",
       "    </tr>\n",
       "    <tr>\n",
       "      <th>4</th>\n",
       "      <td>123687</td>\n",
       "      <td>1</td>\n",
       "      <td>-57.8661</td>\n",
       "      <td>25.2886</td>\n",
       "      <td>6.54847</td>\n",
       "      <td>12</td>\n",
       "      <td>14.075198</td>\n",
       "      <td>&lt;1 1 6 3&gt;</td>\n",
       "    </tr>\n",
       "  </tbody>\n",
       "</table>\n",
       "</div>"
      ],
      "text/plain": [
       "       id  type        x        y         z  Coordination  AtomicVolume  \\\n",
       "0  110142     1 -56.7958  26.4466   9.35544            14     15.337442   \n",
       "1  110488     1 -54.7984  25.7986   6.57851            13     13.583696   \n",
       "2  115975     3 -56.0353  24.3024   8.06095            11     18.105264   \n",
       "3  115977     3 -57.9252  25.0869  11.38030            11     17.911633   \n",
       "4  123687     1 -57.8661  25.2886   6.54847            12     14.075198   \n",
       "\n",
       "  VoronoiIndices  \n",
       "0      <1 4 1 4>  \n",
       "1      <0 3 4 4>  \n",
       "2      <0 1 4 5>  \n",
       "3      <1 1 3 4>  \n",
       "4      <1 1 6 3>  "
      ]
     },
     "execution_count": 12,
     "metadata": {},
     "output_type": "execute_result"
    }
   ],
   "source": [
    "data.head()"
   ]
  },
  {
   "cell_type": "code",
   "execution_count": 13,
   "metadata": {},
   "outputs": [],
   "source": [
    "y_lower = (data.y.max()+data.y.min())*0.5 - (data.y.max()-data.y.min())*0.1\n",
    "\n",
    "y_upper = (data.y.max()+data.y.min())*0.5 + (data.y.max()-data.y.min())*0.1\n",
    "\n",
    "data_y = data.loc[(data.y >= y_lower) & (data.y <= y_upper)].sort_values('y')"
   ]
  },
  {
   "cell_type": "code",
   "execution_count": 14,
   "metadata": {},
   "outputs": [],
   "source": [
    "# points= np.arange(len(data_y),5)\n",
    "# quartiles = pd.cut(data_y.x, points).replace(np.nan,0)\n",
    "bin_num = 200.\n",
    "quartiles = pd.cut(data_y.x, bin_num)"
   ]
  },
  {
   "cell_type": "code",
   "execution_count": 15,
   "metadata": {
    "scrolled": true
   },
   "outputs": [],
   "source": [
    "x_dist = data_y.type.groupby(quartiles).value_counts().unstack().replace(np.nan, 0.).rename(columns={1:'Cu',2:'O',3:'Zr'})\n",
    "\n",
    "sum = x_dist.sum(axis=1)\n",
    "x_dist_fraction = x_dist.div(sum,axis=0)*100"
   ]
  },
  {
   "cell_type": "code",
   "execution_count": 16,
   "metadata": {},
   "outputs": [
    {
     "data": {
      "text/html": [
       "<div>\n",
       "<style scoped>\n",
       "    .dataframe tbody tr th:only-of-type {\n",
       "        vertical-align: middle;\n",
       "    }\n",
       "\n",
       "    .dataframe tbody tr th {\n",
       "        vertical-align: top;\n",
       "    }\n",
       "\n",
       "    .dataframe thead th {\n",
       "        text-align: right;\n",
       "    }\n",
       "</style>\n",
       "<table border=\"1\" class=\"dataframe\">\n",
       "  <thead>\n",
       "    <tr style=\"text-align: right;\">\n",
       "      <th>type</th>\n",
       "      <th>Cu</th>\n",
       "      <th>O</th>\n",
       "      <th>Zr</th>\n",
       "    </tr>\n",
       "    <tr>\n",
       "      <th>x</th>\n",
       "      <th></th>\n",
       "      <th></th>\n",
       "      <th></th>\n",
       "    </tr>\n",
       "  </thead>\n",
       "  <tbody>\n",
       "    <tr>\n",
       "      <th>(-61.707, -59.495]</th>\n",
       "      <td>37.0</td>\n",
       "      <td>87.0</td>\n",
       "      <td>22.0</td>\n",
       "    </tr>\n",
       "    <tr>\n",
       "      <th>(-59.495, -57.651]</th>\n",
       "      <td>75.0</td>\n",
       "      <td>55.0</td>\n",
       "      <td>28.0</td>\n",
       "    </tr>\n",
       "    <tr>\n",
       "      <th>(-57.651, -55.807]</th>\n",
       "      <td>64.0</td>\n",
       "      <td>66.0</td>\n",
       "      <td>50.0</td>\n",
       "    </tr>\n",
       "    <tr>\n",
       "      <th>(-55.807, -53.963]</th>\n",
       "      <td>74.0</td>\n",
       "      <td>27.0</td>\n",
       "      <td>45.0</td>\n",
       "    </tr>\n",
       "    <tr>\n",
       "      <th>(-53.963, -52.119]</th>\n",
       "      <td>83.0</td>\n",
       "      <td>17.0</td>\n",
       "      <td>46.0</td>\n",
       "    </tr>\n",
       "  </tbody>\n",
       "</table>\n",
       "</div>"
      ],
      "text/plain": [
       "type                  Cu     O    Zr\n",
       "x                                   \n",
       "(-61.707, -59.495]  37.0  87.0  22.0\n",
       "(-59.495, -57.651]  75.0  55.0  28.0\n",
       "(-57.651, -55.807]  64.0  66.0  50.0\n",
       "(-55.807, -53.963]  74.0  27.0  45.0\n",
       "(-53.963, -52.119]  83.0  17.0  46.0"
      ]
     },
     "execution_count": 16,
     "metadata": {},
     "output_type": "execute_result"
    }
   ],
   "source": [
    "x_dist.head()"
   ]
  },
  {
   "cell_type": "code",
   "execution_count": 17,
   "metadata": {},
   "outputs": [
    {
     "data": {
      "text/html": [
       "<div>\n",
       "<style scoped>\n",
       "    .dataframe tbody tr th:only-of-type {\n",
       "        vertical-align: middle;\n",
       "    }\n",
       "\n",
       "    .dataframe tbody tr th {\n",
       "        vertical-align: top;\n",
       "    }\n",
       "\n",
       "    .dataframe thead th {\n",
       "        text-align: right;\n",
       "    }\n",
       "</style>\n",
       "<table border=\"1\" class=\"dataframe\">\n",
       "  <thead>\n",
       "    <tr style=\"text-align: right;\">\n",
       "      <th>type</th>\n",
       "      <th>Cu</th>\n",
       "      <th>O</th>\n",
       "      <th>Zr</th>\n",
       "    </tr>\n",
       "    <tr>\n",
       "      <th>x</th>\n",
       "      <th></th>\n",
       "      <th></th>\n",
       "      <th></th>\n",
       "    </tr>\n",
       "  </thead>\n",
       "  <tbody>\n",
       "    <tr>\n",
       "      <th>(-61.707, -59.495]</th>\n",
       "      <td>25.342466</td>\n",
       "      <td>59.589041</td>\n",
       "      <td>15.068493</td>\n",
       "    </tr>\n",
       "    <tr>\n",
       "      <th>(-59.495, -57.651]</th>\n",
       "      <td>47.468354</td>\n",
       "      <td>34.810127</td>\n",
       "      <td>17.721519</td>\n",
       "    </tr>\n",
       "    <tr>\n",
       "      <th>(-57.651, -55.807]</th>\n",
       "      <td>35.555556</td>\n",
       "      <td>36.666667</td>\n",
       "      <td>27.777778</td>\n",
       "    </tr>\n",
       "    <tr>\n",
       "      <th>(-55.807, -53.963]</th>\n",
       "      <td>50.684932</td>\n",
       "      <td>18.493151</td>\n",
       "      <td>30.821918</td>\n",
       "    </tr>\n",
       "    <tr>\n",
       "      <th>(-53.963, -52.119]</th>\n",
       "      <td>56.849315</td>\n",
       "      <td>11.643836</td>\n",
       "      <td>31.506849</td>\n",
       "    </tr>\n",
       "  </tbody>\n",
       "</table>\n",
       "</div>"
      ],
      "text/plain": [
       "type                       Cu          O         Zr\n",
       "x                                                  \n",
       "(-61.707, -59.495]  25.342466  59.589041  15.068493\n",
       "(-59.495, -57.651]  47.468354  34.810127  17.721519\n",
       "(-57.651, -55.807]  35.555556  36.666667  27.777778\n",
       "(-55.807, -53.963]  50.684932  18.493151  30.821918\n",
       "(-53.963, -52.119]  56.849315  11.643836  31.506849"
      ]
     },
     "execution_count": 17,
     "metadata": {},
     "output_type": "execute_result"
    }
   ],
   "source": [
    "x_dist_fraction.head()"
   ]
  },
  {
   "cell_type": "code",
   "execution_count": 18,
   "metadata": {},
   "outputs": [],
   "source": [
    "x_cor = pd.Series(np.arange(bin_num))\n",
    "for i in range(len(x_dist.index)):\n",
    "    x_cor[i] = x_dist.index[i].mid\n",
    "\n",
    "df1=x_dist.reset_index().sort_values('x')\n",
    "\n",
    "df1['x_cor'] =x_cor\n",
    "\n",
    "df2=df1.set_index('x_cor').drop('x',axis=1)\n",
    "\n",
    "df2.to_csv(file_name[:-5]+'_atom number.txt')\n"
   ]
  },
  {
   "cell_type": "code",
   "execution_count": 19,
   "metadata": {},
   "outputs": [],
   "source": [
    "df1_f=x_dist_fraction.reset_index().sort_values('x')\n",
    "\n",
    "df1_f['x_cor'] =x_cor\n",
    "\n",
    "df2_f=df1_f.set_index('x_cor').drop('x',axis=1)\n",
    "\n",
    "df2_f.to_csv(file_name[:-5]+'_atom fraction.txt')"
   ]
  },
  {
   "cell_type": "code",
   "execution_count": 20,
   "metadata": {},
   "outputs": [
    {
     "data": {
      "text/plain": [
       "<Figure size 1800x1200 with 0 Axes>"
      ]
     },
     "metadata": {},
     "output_type": "display_data"
    },
    {
     "data": {
      "image/png": "[encoded data removed]",
      "text/plain": [
       "<Figure size 432x288 with 1 Axes>"
      ]
     },
     "metadata": {
      "needs_background": "light"
     },
     "output_type": "display_data"
    }
   ],
   "source": [
    "df3=df2\n",
    "\n",
    "fig = plt.figure(dpi=300)\n",
    "\n",
    "fig.set(alpha=0.2)\n",
    "\n",
    "df3.plot(ylim=(0,160), style=['rs-','b^-','yo-','+-','*-'],title='Atom number distribution')\n",
    "plt.xlabel('x-axis (angstrom)')\n",
    "plt.ylabel('counts')\n",
    "\n",
    "plt.legend(loc='best')\n",
    "\n",
    "fig_name = file_name[:-5]+'_atom number'+'.jpg'\n",
    "\n",
    "plt.savefig(fig_name,dpi=300)\n"
   ]
  },
  {
   "cell_type": "code",
   "execution_count": 21,
   "metadata": {},
   "outputs": [
    {
     "data": {
      "text/plain": [
       "<Figure size 1800x1200 with 0 Axes>"
      ]
     },
     "metadata": {},
     "output_type": "display_data"
    },
    {
     "data": {
      "image/png": "[encoded data removed]",
      "text/plain": [
       "<Figure size 432x288 with 1 Axes>"
      ]
     },
     "metadata": {
      "needs_background": "light"
     },
     "output_type": "display_data"
    }
   ],
   "source": [
    "df3_f=df2_f\n",
    "\n",
    "fig = plt.figure(dpi=300)\n",
    "\n",
    "fig.set(alpha=0.2)\n",
    "\n",
    "df3_f.plot(xlim=(100,150),ylim=(0,100),style=['rs-','b^-','yo-','+-','*-'],title='Atomic fraction distribution')\n",
    "plt.xlabel('x-axis (angstrom)')\n",
    "plt.ylabel('fraction (%)')\n",
    "\n",
    "plt.legend(loc='best')\n",
    "\n",
    "fig_name = file_name[:-5]+'_atomic fraction'+'.jpg'\n",
    "\n",
    "plt.savefig(fig_name,dpi=300)"
   ]
  }
 ],
 "metadata": {
  "kernelspec": {
   "display_name": "Python 3",
   "language": "python",
   "name": "python3"
  },
  "language_info": {
   "codemirror_mode": {
    "name": "ipython",
    "version": 3
   },
   "file_extension": ".py",
   "mimetype": "text/x-python",
   "name": "python",
   "nbconvert_exporter": "python",
   "pygments_lexer": "ipython3",
   "version": "3.7.1"
  }
 },
 "nbformat": 4,
 "nbformat_minor": 2
}
